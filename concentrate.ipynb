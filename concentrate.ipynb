{
 "cells": [
  {
   "cell_type": "code",
   "execution_count": 123,
   "metadata": {},
   "outputs": [],
   "source": [
    "import pandas as pd"
   ]
  },
  {
   "cell_type": "code",
   "execution_count": 124,
   "metadata": {},
   "outputs": [],
   "source": [
    "df1 = pd.read_csv('modified_train_binaaz.csv')\n",
    "df5 = pd.read_csv('3-3.1.csv')\n",
    "df3 = pd.read_csv('2.6-3.csv')\n",
    "df4 = pd.read_csv('3.1-3.45.csv')\n",
    "df2 = pd.read_csv('check.csv')"
   ]
  },
  {
   "cell_type": "code",
   "execution_count": 125,
   "metadata": {},
   "outputs": [],
   "source": [
    "del df2['id']\n",
    "del df3['id']\n",
    "del df4['id']\n",
    "del df5['id']\n",
    "\n",
    "df2 = df2.rename(columns={'longtitude':'longitude'})\n",
    "df3 = df3.rename(columns={'longtitude':'longitude'})\n",
    "df4 = df4.rename(columns={'longtitude':'longitude'})\n",
    "df5 = df5.rename(columns={'longtitude':'longitude'})\n",
    "\n",
    "\n",
    "test = pd.concat([df2, df3], ignore_index=True).drop_duplicates()\n",
    "test = pd.concat([df4, test], ignore_index=True).drop_duplicates()\n",
    "test = pd.concat([df5, test], ignore_index=True).drop_duplicates()"
   ]
  },
  {
   "cell_type": "code",
   "execution_count": 126,
   "metadata": {},
   "outputs": [],
   "source": [
    "df1 = df1.drop(['link', 'poster', 'poster_type', 'id', 'description', 'address', 'title'], axis=1)\n",
    "del test['price-cur']\n",
    "del df1['currency']\n",
    "df1['city'] = 'Baku'\n",
    "df1 = df1.rename(columns={'location attributes':'locations','publication_date':'date', 'category':'Kateqoriya','floor':'Mərtəbə','area':'Sahə','kupcha':'Çıxarış','repairs':'Təmir','hypothec':'İpoteka','rooms':'Otaq sayı'})\n",
    "def format(x:str):\n",
    "    return x.strip(\"[']\").replace(\"'\", \"\")\n",
    "df1['locations'] = df1['locations'].apply(format)\n",
    "test.reset_index()\n",
    "del test['Unnamed: 0']"
   ]
  },
  {
   "cell_type": "code",
   "execution_count": 127,
   "metadata": {},
   "outputs": [],
   "source": [
    "#test = pd.concat([df1, test], ignore_index=True).drop_duplicates().reset_index()"
   ]
  },
  {
   "cell_type": "code",
   "execution_count": 128,
   "metadata": {},
   "outputs": [],
   "source": [
    "test.to_csv('our_united_dataset.csv', index=False)"
   ]
  }
 ],
 "metadata": {
  "kernelspec": {
   "display_name": "Python 3",
   "language": "python",
   "name": "python3"
  },
  "language_info": {
   "codemirror_mode": {
    "name": "ipython",
    "version": 3
   },
   "file_extension": ".py",
   "mimetype": "text/x-python",
   "name": "python",
   "nbconvert_exporter": "python",
   "pygments_lexer": "ipython3",
   "version": "3.9.16"
  },
  "orig_nbformat": 4
 },
 "nbformat": 4,
 "nbformat_minor": 2
}
